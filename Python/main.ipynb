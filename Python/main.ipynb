{
 "cells": [
  {
   "cell_type": "code",
   "execution_count": 2,
   "metadata": {},
   "outputs": [],
   "source": [
    "from youtubesearchpython import VideosSearch\n",
    "from yt_dlp import YoutubeDL"
   ]
  },
  {
   "cell_type": "code",
   "execution_count": 2,
   "metadata": {},
   "outputs": [],
   "source": [
    "search = VideosSearch(\"Kathal Vaithu\",region=\"IN\")\n",
    "results = search.result()[\"result\"]"
   ]
  },
  {
   "cell_type": "code",
   "execution_count": 3,
   "metadata": {},
   "outputs": [
    {
     "name": "stdout",
     "output_type": "stream",
     "text": [
      "https://www.youtube.com/watch?v=vnsEKd5z_rA\n",
      "https://www.youtube.com/watch?v=kROB184hbsA\n",
      "https://www.youtube.com/watch?v=l-8f-7gIZYE\n",
      "https://www.youtube.com/watch?v=F-nbd9_fxE0\n",
      "https://www.youtube.com/watch?v=mesXkr-rqkQ\n",
      "https://www.youtube.com/watch?v=zUTRuvtU3EY\n",
      "https://www.youtube.com/watch?v=E0PRyWu0VRA\n",
      "https://www.youtube.com/watch?v=GY0aziwkvTY\n",
      "https://www.youtube.com/watch?v=IqHIGNzAhug\n",
      "https://www.youtube.com/watch?v=oHDo5wxBKRU\n",
      "https://www.youtube.com/watch?v=cavQVJCVm6A\n",
      "https://www.youtube.com/watch?v=7J6wsBbPTz0\n",
      "https://www.youtube.com/watch?v=H1Exbh7YIEg\n",
      "https://www.youtube.com/watch?v=G0lj3CQ0mTk\n",
      "https://www.youtube.com/watch?v=EwV64TSNV2g\n",
      "https://www.youtube.com/watch?v=ZY1eIYsPnmY\n",
      "https://www.youtube.com/watch?v=WpP8bhjF6Y8\n",
      "https://www.youtube.com/watch?v=txkrUpX_Z5k\n",
      "https://www.youtube.com/watch?v=7k6PODNFnX8\n"
     ]
    }
   ],
   "source": [
    "for result in results:\n",
    "    title = result[\"title\"]\n",
    "    publishedTime = result[\"publishedTime\"]\n",
    "    views = result[\"viewCount\"][\"short\"]\n",
    "    thumbnail = result[\"thumbnails\"][0][\"url\"]\n",
    "    channelName = result[\"channel\"][\"name\"]\n",
    "    channelThumnails = result[\"channel\"][\"thumbnails\"][0][\"url\"]\n",
    "    link = result[\"link\"]\n",
    "\n",
    "    print(link)"
   ]
  },
  {
   "cell_type": "code",
   "execution_count": 99,
   "metadata": {},
   "outputs": [],
   "source": [
    "\n",
    "ydl_opts =  {\n",
    "    'format': 'm4a/bestaudio',\n",
    "}"
   ]
  },
  {
   "cell_type": "code",
   "execution_count": 100,
   "metadata": {},
   "outputs": [
    {
     "name": "stdout",
     "output_type": "stream",
     "text": [
      "[youtube] Extracting URL: https://www.youtube.com/watch?v=vnsEKd5z_rA\n",
      "[youtube] vnsEKd5z_rA: Downloading webpage\n",
      "[youtube] vnsEKd5z_rA: Downloading ios player API JSON\n",
      "[youtube] vnsEKd5z_rA: Downloading web creator player API JSON\n",
      "[youtube] vnsEKd5z_rA: Downloading m3u8 information\n"
     ]
    }
   ],
   "source": [
    "dl = YoutubeDL(ydl_opts)\n",
    "info = dl.extract_info(\"https://www.youtube.com/watch?v=vnsEKd5z_rA\",download=False)"
   ]
  },
  {
   "cell_type": "code",
   "execution_count": 72,
   "metadata": {},
   "outputs": [
    {
     "name": "stdout",
     "output_type": "stream",
     "text": [
      "[info] Available formats for vnsEKd5z_rA:\n",
      "ID  EXT   RESOLUTION FPS CH |   FILESIZE    TBR PROTO | VCODEC           VBR ACODEC      ABR ASR MORE INFO\n",
      "-----------------------------------------------------------------------------------------------------------------------\n",
      "sb3 mhtml 48x27        0    |                   mhtml | images                                   storyboard\n",
      "sb2 mhtml 80x45        0    |                   mhtml | images                                   storyboard\n",
      "sb1 mhtml 160x90       0    |                   mhtml | images                                   storyboard\n",
      "sb0 mhtml 320x180      0    |                   mhtml | images                                   storyboard\n",
      "233 mp4   audio only        |                   m3u8  | audio only           unknown             [ar] Default\n",
      "234 mp4   audio only        |                   m3u8  | audio only           unknown             [ar] Default\n",
      "139 m4a   audio only      2 |    1.82MiB    49k https | audio only           mp4a.40.5   49k 22k [ar] low, m4a_dash\n",
      "249 webm  audio only      2 |    2.07MiB    56k https | audio only           opus        56k 48k [ar] low, webm_dash\n",
      "250 webm  audio only      2 |    2.72MiB    73k https | audio only           opus        73k 48k [ar] low, webm_dash\n",
      "140 m4a   audio only      2 |    4.84MiB   129k https | audio only           mp4a.40.2  129k 44k [ar] medium, m4a_dash\n",
      "251 webm  audio only      2 |    5.38MiB   144k https | audio only           opus       144k 48k [ar] medium, webm_dash\n",
      "602 mp4   256x144     12    | ~  3.44MiB    92k m3u8  | vp09.00.10.08    92k video only\n",
      "394 mp4   256x144     24    |    2.06MiB    55k https | av01.0.00M.08    55k video only          144p, mp4_dash\n",
      "269 mp4   256x144     24    | ~  6.31MiB   169k m3u8  | avc1.4D400C     169k video only\n",
      "160 mp4   256x144     24    |    3.39MiB    91k https | avc1.4D400C      91k video only          144p, mp4_dash\n",
      "603 mp4   256x144     24    | ~  6.50MiB   174k m3u8  | vp09.00.11.08   174k video only\n",
      "278 webm  256x144     24    |    2.76MiB    74k https | vp09.00.11.08    74k video only          144p, webm_dash\n",
      "395 mp4   426x240     24    |    5.26MiB   141k https | av01.0.00M.08   141k video only          240p, mp4_dash\n",
      "229 mp4   426x240     24    | ~ 11.59MiB   311k m3u8  | avc1.4D4015     311k video only\n",
      "133 mp4   426x240     24    |    7.43MiB   199k https | avc1.4D4015     199k video only          240p, mp4_dash\n",
      "604 mp4   426x240     24    | ~ 11.55MiB   309k m3u8  | vp09.00.20.08   309k video only\n",
      "242 webm  426x240     24    |    5.59MiB   150k https | vp09.00.20.08   150k video only          240p, webm_dash\n",
      "396 mp4   640x360     24    |   10.28MiB   275k https | av01.0.01M.08   275k video only          360p, mp4_dash\n",
      "230 mp4   640x360     24    | ~ 29.94MiB   802k m3u8  | avc1.4D401E     802k video only\n",
      "134 mp4   640x360     24    |   15.58MiB   417k https | avc1.4D401E     417k video only          360p, mp4_dash\n",
      "18  mp4   640x360     24  2 |   25.57MiB   685k https | avc1.42001E          mp4a.40.2       44k [ar] 360p\n",
      "605 mp4   640x360     24    | ~ 28.08MiB   752k m3u8  | vp09.00.21.08   752k video only\n",
      "243 webm  640x360     24    |   13.55MiB   363k https | vp09.00.21.08   363k video only          360p, webm_dash\n",
      "397 mp4   854x480     24    |   17.67MiB   473k https | av01.0.04M.08   473k video only          480p, mp4_dash\n",
      "231 mp4   854x480     24    | ~ 50.49MiB  1353k m3u8  | avc1.4D401E    1353k video only\n",
      "135 mp4   854x480     24    |   25.65MiB   687k https | avc1.4D401E     687k video only          480p, mp4_dash\n",
      "606 mp4   854x480     24    | ~ 45.87MiB  1229k m3u8  | vp09.00.30.08  1229k video only\n",
      "244 webm  854x480     24    |   19.15MiB   513k https | vp09.00.30.08   513k video only          480p, webm_dash\n",
      "398 mp4   1280x720    24    |   32.06MiB   858k https | av01.0.05M.08   858k video only          720p, mp4_dash\n",
      "232 mp4   1280x720    24    | ~ 87.37MiB  2342k m3u8  | avc1.4D401F    2342k video only\n",
      "136 mp4   1280x720    24    |   40.57MiB  1086k https | avc1.4D401F    1086k video only          720p, mp4_dash\n",
      "609 mp4   1280x720    24    | ~ 82.50MiB  2211k m3u8  | vp09.00.31.08  2211k video only\n",
      "247 webm  1280x720    24    |   36.51MiB   978k https | vp09.00.31.08   978k video only          720p, webm_dash\n",
      "399 mp4   1920x1080   24    |   57.15MiB  1530k https | av01.0.08M.08  1530k video only          1080p, mp4_dash\n",
      "270 mp4   1920x1080   24    | ~174.96MiB  4689k m3u8  | avc1.640028    4689k video only\n",
      "137 mp4   1920x1080   24    |  118.90MiB  3184k https | avc1.640028    3184k video only          1080p, mp4_dash\n",
      "614 mp4   1920x1080   24    | ~135.49MiB  3631k m3u8  | vp09.00.40.08  3631k video only\n",
      "248 webm  1920x1080   24    |   61.18MiB  1638k https | vp09.00.40.08  1638k video only          1080p, webm_dash\n",
      "400 mp4   2560x1440   24    |  197.86MiB  5298k https | av01.0.12M.08  5298k video only          1440p, mp4_dash\n",
      "620 mp4   2560x1440   24    | ~355.85MiB  9537k m3u8  | vp09.00.50.08  9537k video only\n",
      "271 webm  2560x1440   24    |  250.00MiB  6694k https | vp09.00.50.08  6694k video only          1440p, webm_dash\n",
      "401 mp4   3840x2160   24    |  376.52MiB 10082k https | av01.0.12M.08 10082k video only          2160p, mp4_dash\n",
      "625 mp4   3840x2160   24    | ~707.23MiB 18954k m3u8  | vp09.00.50.08 18954k video only\n",
      "313 webm  3840x2160   24    |  561.40MiB 15032k https | vp09.00.50.08 15032k video only          2160p, webm_dash\n"
     ]
    }
   ],
   "source": [
    "dl.list_formats(info)"
   ]
  },
  {
   "cell_type": "code",
   "execution_count": 101,
   "metadata": {},
   "outputs": [
    {
     "data": {
      "text/plain": [
       "'140 - audio only (medium)'"
      ]
     },
     "execution_count": 101,
     "metadata": {},
     "output_type": "execute_result"
    }
   ],
   "source": [
    "info[\"format\"]"
   ]
  }
 ],
 "metadata": {
  "kernelspec": {
   "display_name": "Python 3",
   "language": "python",
   "name": "python3"
  },
  "language_info": {
   "codemirror_mode": {
    "name": "ipython",
    "version": 3
   },
   "file_extension": ".py",
   "mimetype": "text/x-python",
   "name": "python",
   "nbconvert_exporter": "python",
   "pygments_lexer": "ipython3",
   "version": "3.9.7"
  }
 },
 "nbformat": 4,
 "nbformat_minor": 2
}
